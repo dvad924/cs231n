{
 "cells": [
  {
   "cell_type": "markdown",
   "metadata": {},
   "source": [
    "# Softmax exercise\n",
    "\n",
    "*Complete and hand in this completed worksheet (including its outputs and any supporting code outside of the worksheet) with your assignment submission. For more details see the [assignments page](http://vision.stanford.edu/teaching/cs231n/assignments.html) on the course website.*\n",
    "\n",
    "This exercise is analogous to the SVM exercise. You will:\n",
    "\n",
    "- implement a fully-vectorized **loss function** for the Softmax classifier\n",
    "- implement the fully-vectorized expression for its **analytic gradient**\n",
    "- **check your implementation** with numerical gradient\n",
    "- use a validation set to **tune the learning rate and regularization** strength\n",
    "- **optimize** the loss function with **SGD**\n",
    "- **visualize** the final learned weights\n"
   ]
  },
  {
   "cell_type": "code",
   "execution_count": 1,
   "metadata": {
    "collapsed": false
   },
   "outputs": [],
   "source": [
    "import random\n",
    "import numpy as np\n",
    "from cs231n.data_utils import load_CIFAR10\n",
    "import matplotlib.pyplot as plt\n",
    "%matplotlib inline\n",
    "plt.rcParams['figure.figsize'] = (10.0, 8.0) # set default size of plots\n",
    "plt.rcParams['image.interpolation'] = 'nearest'\n",
    "plt.rcParams['image.cmap'] = 'gray'\n",
    "\n",
    "# for auto-reloading extenrnal modules\n",
    "# see http://stackoverflow.com/questions/1907993/autoreload-of-modules-in-ipython\n",
    "%load_ext autoreload\n",
    "%autoreload 2"
   ]
  },
  {
   "cell_type": "code",
   "execution_count": 2,
   "metadata": {
    "collapsed": false
   },
   "outputs": [
    {
     "name": "stdout",
     "output_type": "stream",
     "text": [
      "Train data shape:  (49000, 3073)\n",
      "Train labels shape:  (49000,)\n",
      "Validation data shape:  (1000, 3073)\n",
      "Validation labels shape:  (1000,)\n",
      "Test data shape:  (1000, 3073)\n",
      "Test labels shape:  (1000,)\n",
      "dev data shape:  (500, 3073)\n",
      "dev labels shape:  (500,)\n"
     ]
    }
   ],
   "source": [
    "def get_CIFAR10_data(num_training=49000, num_validation=1000, num_test=1000, num_dev=500):\n",
    "  \"\"\"\n",
    "  Load the CIFAR-10 dataset from disk and perform preprocessing to prepare\n",
    "  it for the linear classifier. These are the same steps as we used for the\n",
    "  SVM, but condensed to a single function.  \n",
    "  \"\"\"\n",
    "  # Load the raw CIFAR-10 data\n",
    "  cifar10_dir = 'cs231n/datasets/cifar-10-batches-py'\n",
    "  X_train, y_train, X_test, y_test = load_CIFAR10(cifar10_dir)\n",
    "  \n",
    "  # subsample the data\n",
    "  mask = range(num_training, num_training + num_validation)\n",
    "  X_val = X_train[mask]\n",
    "  y_val = y_train[mask]\n",
    "  mask = range(num_training)\n",
    "  X_train = X_train[mask]\n",
    "  y_train = y_train[mask]\n",
    "  mask = range(num_test)\n",
    "  X_test = X_test[mask]\n",
    "  y_test = y_test[mask]\n",
    "  mask = np.random.choice(num_training, num_dev, replace=False)\n",
    "  X_dev = X_train[mask]\n",
    "  y_dev = y_train[mask]\n",
    "  \n",
    "  # Preprocessing: reshape the image data into rows\n",
    "  X_train = np.reshape(X_train, (X_train.shape[0], -1))\n",
    "  X_val = np.reshape(X_val, (X_val.shape[0], -1))\n",
    "  X_test = np.reshape(X_test, (X_test.shape[0], -1))\n",
    "  X_dev = np.reshape(X_dev, (X_dev.shape[0], -1))\n",
    "  \n",
    "  # Normalize the data: subtract the mean image\n",
    "  mean_image = np.mean(X_train, axis = 0)\n",
    "  X_train -= mean_image\n",
    "  X_val -= mean_image\n",
    "  X_test -= mean_image\n",
    "  X_dev -= mean_image\n",
    "  \n",
    "  # add bias dimension and transform into columns\n",
    "  X_train = np.hstack([X_train, np.ones((X_train.shape[0], 1))])\n",
    "  X_val = np.hstack([X_val, np.ones((X_val.shape[0], 1))])\n",
    "  X_test = np.hstack([X_test, np.ones((X_test.shape[0], 1))])\n",
    "  X_dev = np.hstack([X_dev, np.ones((X_dev.shape[0], 1))])\n",
    "  \n",
    "  return X_train, y_train, X_val, y_val, X_test, y_test, X_dev, y_dev\n",
    "\n",
    "\n",
    "# Invoke the above function to get our data.\n",
    "X_train, y_train, X_val, y_val, X_test, y_test, X_dev, y_dev = get_CIFAR10_data()\n",
    "print 'Train data shape: ', X_train.shape\n",
    "print 'Train labels shape: ', y_train.shape\n",
    "print 'Validation data shape: ', X_val.shape\n",
    "print 'Validation labels shape: ', y_val.shape\n",
    "print 'Test data shape: ', X_test.shape\n",
    "print 'Test labels shape: ', y_test.shape\n",
    "print 'dev data shape: ', X_dev.shape\n",
    "print 'dev labels shape: ', y_dev.shape"
   ]
  },
  {
   "cell_type": "markdown",
   "metadata": {},
   "source": [
    "## Softmax Classifier\n",
    "\n",
    "Your code for this section will all be written inside **cs231n/classifiers/softmax.py**. \n"
   ]
  },
  {
   "cell_type": "code",
   "execution_count": 3,
   "metadata": {
    "collapsed": false
   },
   "outputs": [
    {
     "name": "stdout",
     "output_type": "stream",
     "text": [
      "\n",
      "loss: 2.370877\n",
      "sanity check: 2.302585\n"
     ]
    }
   ],
   "source": [
    "# First implement the naive softmax loss function with nested loops.\n",
    "# Open the file cs231n/classifiers/softmax.py and implement the\n",
    "# softmax_loss_naive function.\n",
    "\n",
    "from cs231n.classifiers.softmax import softmax_loss_naive\n",
    "import time\n",
    "\n",
    "# Generate a random softmax weight matrix and use it to compute the loss.\n",
    "W = np.random.randn(3073, 10) * 0.0001\n",
    "loss, grad = softmax_loss_naive(W, X_dev, y_dev, 0.0)\n",
    "\n",
    "# As a rough sanity check, our loss should be something close to -log(0.1).\n",
    "print 'loss: %f' % loss\n",
    "print 'sanity check: %f' % (-np.log(0.1))"
   ]
  },
  {
   "cell_type": "markdown",
   "metadata": {},
   "source": [
    "## Inline Question 1:\n",
    "Why do we expect our loss to be close to -log(0.1)? Explain briefly.**\n",
    "\n",
    "**Your answer:** *Fill this in*\n"
   ]
  },
  {
   "cell_type": "code",
   "execution_count": 4,
   "metadata": {
    "collapsed": false
   },
   "outputs": [
    {
     "name": "stdout",
     "output_type": "stream",
     "text": [
      "\n",
      "\n",
      "\n",
      "numerical: 2.195910 analytic: 2.195910, relative error: 9.709627e-09\n",
      "\n",
      "\n",
      "numerical: -0.962124 analytic: -0.962124, relative error: 5.775328e-08\n",
      "\n",
      "\n",
      "numerical: 2.535081 analytic: 2.535081, relative error: 3.081712e-08\n",
      "\n",
      "\n",
      "numerical: 0.043632 analytic: 0.043632, relative error: 1.041116e-06\n",
      "\n",
      "\n",
      "numerical: 0.829174 analytic: 0.829174, relative error: 1.098056e-07\n",
      "\n",
      "\n",
      "numerical: 2.183126 analytic: 2.183125, relative error: 3.253532e-08\n",
      "\n",
      "\n",
      "numerical: 0.970554 analytic: 0.970554, relative error: 9.248773e-09\n",
      "\n",
      "\n",
      "numerical: 0.129126 analytic: 0.129126, relative error: 3.327214e-07\n",
      "\n",
      "\n",
      "numerical: 0.935070 analytic: 0.935070, relative error: 8.474052e-08\n",
      "\n",
      "\n",
      "numerical: 2.088385 analytic: 2.088385, relative error: 1.493609e-08\n",
      "\n",
      "\n",
      "\n",
      "numerical: 0.178448 analytic: 0.178448, relative error: 1.078310e-07\n",
      "\n",
      "\n",
      "numerical: -1.334448 analytic: -1.334448, relative error: 1.627197e-08\n",
      "\n",
      "\n",
      "numerical: -3.587200 analytic: -3.587200, relative error: 1.260525e-08\n",
      "\n",
      "\n",
      "numerical: -0.021100 analytic: -0.021100, relative error: 7.649821e-07\n",
      "\n",
      "\n",
      "numerical: -0.046662 analytic: -0.046663, relative error: 8.564102e-07\n",
      "\n",
      "\n",
      "numerical: 2.744399 analytic: 2.744399, relative error: 1.457396e-08\n",
      "\n",
      "\n",
      "numerical: 3.000251 analytic: 3.000251, relative error: 1.154214e-08\n",
      "\n",
      "\n",
      "numerical: 0.452423 analytic: 0.452423, relative error: 1.451698e-07\n",
      "\n",
      "\n",
      "numerical: 2.120735 analytic: 2.120735, relative error: 2.035103e-09\n",
      "\n",
      "\n",
      "numerical: -2.550853 analytic: -2.550853, relative error: 3.405004e-08\n"
     ]
    }
   ],
   "source": [
    "# Complete the implementation of softmax_loss_naive and implement a (naive)\n",
    "# version of the gradient that uses nested loops.\n",
    "loss, grad = softmax_loss_naive(W, X_dev, y_dev, 0.0)\n",
    "\n",
    "# As we did for the SVM, use numeric gradient checking as a debugging tool.\n",
    "# The numeric gradient should be close to the analytic gradient.\n",
    "from cs231n.gradient_check import grad_check_sparse\n",
    "f = lambda w: softmax_loss_naive(w, X_dev, y_dev, 0.0)[0]\n",
    "grad_numerical = grad_check_sparse(f, W, grad, 10)\n",
    "\n",
    "# similar to SVM case, do another gradient check with regularization\n",
    "loss, grad = softmax_loss_naive(W, X_dev, y_dev, 1e2)\n",
    "f = lambda w: softmax_loss_naive(w, X_dev, y_dev, 1e2)[0]\n",
    "grad_numerical = grad_check_sparse(f, W, grad, 10)"
   ]
  },
  {
   "cell_type": "code",
   "execution_count": 5,
   "metadata": {
    "collapsed": false
   },
   "outputs": [
    {
     "name": "stdout",
     "output_type": "stream",
     "text": [
      "[[ -39.64189796  -54.98173469  -78.47391837 ...,   21.13804082\n",
      "     9.60042857    1.        ]\n",
      " [-120.64189796 -135.98173469 -131.47391837 ..., -125.86195918\n",
      "  -113.39957143    1.        ]\n",
      " [  98.35810204   94.01826531  101.52608163 ...,   -9.86195918\n",
      "   -21.39957143    1.        ]\n",
      " ..., \n",
      " [  73.35810204   71.01826531   84.52608163 ...,  -34.86195918\n",
      "   -10.39957143    1.        ]\n",
      " [-130.64189796 -131.98173469 -125.47391837 ..., -112.86195918\n",
      "  -103.39957143    1.        ]\n",
      " [  27.35810204   21.01826531   14.52608163 ...,   24.13804082\n",
      "    -4.39957143    1.        ]]\n",
      "(500, 3073) (3073, 10)\n"
     ]
    }
   ],
   "source": [
    "from cs231n.classifiers.softmax import softmax_loss_vectorized\n",
    "tic = time.time()\n",
    "loss_vectorized, grad_vectorized = softmax_loss_vectorized(W, X_dev, y_dev, 0.00001)"
   ]
  },
  {
   "cell_type": "code",
   "execution_count": 6,
   "metadata": {
    "collapsed": false
   },
   "outputs": [
    {
     "name": "stdout",
     "output_type": "stream",
     "text": [
      "\n",
      "naive loss: 2.370877e+00 computed in 0.156461s\n",
      "[[ -39.64189796  -54.98173469  -78.47391837 ...,   21.13804082\n",
      "     9.60042857    1.        ]\n",
      " [-120.64189796 -135.98173469 -131.47391837 ..., -125.86195918\n",
      "  -113.39957143    1.        ]\n",
      " [  98.35810204   94.01826531  101.52608163 ...,   -9.86195918\n",
      "   -21.39957143    1.        ]\n",
      " ..., \n",
      " [  73.35810204   71.01826531   84.52608163 ...,  -34.86195918\n",
      "   -10.39957143    1.        ]\n",
      " [-130.64189796 -131.98173469 -125.47391837 ..., -112.86195918\n",
      "  -103.39957143    1.        ]\n",
      " [  27.35810204   21.01826531   14.52608163 ...,   24.13804082\n",
      "    -4.39957143    1.        ]]\n",
      "(500, 3073) (3073, 10)\n",
      "vectorized loss: 2.370877e+00 computed in 0.010912s\n",
      "Loss difference: 0.000000\n",
      "Gradient difference: 0.000000\n"
     ]
    }
   ],
   "source": [
    "# Now that we have a naive implementation of the softmax loss function and its gradient,\n",
    "# implement a vectorized version in softmax_loss_vectorized.\n",
    "# The two versions should compute the same results, but the vectorized version should be\n",
    "# much faster.\n",
    "tic = time.time()\n",
    "loss_naive, grad_naive = softmax_loss_naive(W, X_dev, y_dev, 0.00001)\n",
    "toc = time.time()\n",
    "print 'naive loss: %e computed in %fs' % (loss_naive, toc - tic)\n",
    "\n",
    "from cs231n.classifiers.softmax import softmax_loss_vectorized\n",
    "tic = time.time()\n",
    "loss_vectorized, grad_vectorized = softmax_loss_vectorized(W, X_dev, y_dev, 0.00001)\n",
    "toc = time.time()\n",
    "print 'vectorized loss: %e computed in %fs' % (loss_vectorized, toc - tic)\n",
    "\n",
    "# As we did for the SVM, we use the Frobenius norm to compare the two versions\n",
    "# of the gradient.\n",
    "grad_difference = np.linalg.norm(grad_naive - grad_vectorized, ord='fro')\n",
    "print 'Loss difference: %f' % np.abs(loss_naive - loss_vectorized)\n",
    "print 'Gradient difference: %f' % grad_difference"
   ]
  },
  {
   "cell_type": "code",
   "execution_count": 24,
   "metadata": {
    "collapsed": false
   },
   "outputs": [
    {
     "name": "stdout",
     "output_type": "stream",
     "text": [
      "lr: 1e-08 rs: 1000.0\n",
      "lr: 1e-08 rs: 5000.0\n",
      "lr: 1e-08 rs: 10000.0\n",
      "lr: 1e-08 rs: 50000.0\n",
      "lr: 1e-08 rs: 100000.0\n",
      "lr: 1e-08 rs: 500000.0\n",
      "lr: 5e-08 rs: 1000.0\n",
      "lr: 5e-08 rs: 5000.0\n",
      "lr: 5e-08 rs: 10000.0\n",
      "lr: 5e-08 rs: 50000.0\n",
      "lr: 5e-08 rs: 100000.0\n",
      "lr: 5e-08 rs: 500000.0\n",
      "lr: 1e-07 rs: 1000.0\n",
      "lr: 1e-07 rs: 5000.0\n",
      "lr: 1e-07 rs: 10000.0\n",
      "lr: 1e-07 rs: 50000.0\n",
      "lr: 1e-07 rs: 100000.0\n",
      "lr: 1e-07 rs: 500000.0\n",
      "lr: 5e-07 rs: 1000.0\n",
      "lr: 5e-07 rs: 5000.0\n",
      "lr: 5e-07 rs: 10000.0\n",
      "lr: 5e-07 rs: 50000.0\n",
      "lr: 5e-07 rs: 100000.0\n",
      "lr: 5e-07 rs: 500000.0\n",
      "lr: 1e-06 rs: 1000.0\n",
      "lr: 1e-06 rs: 5000.0\n",
      "lr: 1e-06 rs: 10000.0\n",
      "lr: 1e-06 rs: 50000.0\n",
      "lr: 1e-06 rs: 100000.0\n",
      "lr: 1e-06 rs: 500000.0\n",
      "lr: 5e-06 rs: 1000.0\n",
      "lr: 5e-06 rs: 5000.0\n",
      "lr: 5e-06 rs: 10000.0\n",
      "lr: 5e-06 rs: 50000.0\n",
      "lr: 5e-06 rs: 100000.0\n",
      "lr: 5e-06 rs: 500000.0\n",
      "lr 1.000000e-08 reg 1.000000e+03 train accuracy: 0.113918 val accuracy: 0.162000\n",
      "lr 1.000000e-08 reg 5.000000e+03 train accuracy: 0.165020 val accuracy: 0.194000\n",
      "lr 1.000000e-08 reg 1.000000e+04 train accuracy: 0.149061 val accuracy: 0.175000\n",
      "lr 1.000000e-08 reg 5.000000e+04 train accuracy: 0.136776 val accuracy: 0.189000\n",
      "lr 1.000000e-08 reg 1.000000e+05 train accuracy: 0.129388 val accuracy: 0.220000\n",
      "lr 1.000000e-08 reg 5.000000e+05 train accuracy: 0.241286 val accuracy: 0.298000\n",
      "lr 5.000000e-08 reg 1.000000e+03 train accuracy: 0.183612 val accuracy: 0.243000\n",
      "lr 5.000000e-08 reg 5.000000e+03 train accuracy: 0.192878 val accuracy: 0.283000\n",
      "lr 5.000000e-08 reg 1.000000e+04 train accuracy: 0.204020 val accuracy: 0.325000\n",
      "lr 5.000000e-08 reg 5.000000e+04 train accuracy: 0.264265 val accuracy: 0.380000\n",
      "lr 5.000000e-08 reg 1.000000e+05 train accuracy: 0.300429 val accuracy: 0.364000\n",
      "lr 5.000000e-08 reg 5.000000e+05 train accuracy: 0.274918 val accuracy: 0.299000\n",
      "lr 1.000000e-07 reg 1.000000e+03 train accuracy: 0.212347 val accuracy: 0.316000\n",
      "lr 1.000000e-07 reg 5.000000e+03 train accuracy: 0.228367 val accuracy: 0.358000\n",
      "lr 1.000000e-07 reg 1.000000e+04 train accuracy: 0.254878 val accuracy: 0.414000\n",
      "lr 1.000000e-07 reg 5.000000e+04 train accuracy: 0.327327 val accuracy: 0.406000\n",
      "lr 1.000000e-07 reg 1.000000e+05 train accuracy: 0.308633 val accuracy: 0.351000\n",
      "lr 1.000000e-07 reg 5.000000e+05 train accuracy: 0.279286 val accuracy: 0.290000\n",
      "lr 5.000000e-07 reg 1.000000e+03 train accuracy: 0.308490 val accuracy: 0.569000\n",
      "lr 5.000000e-07 reg 5.000000e+03 train accuracy: 0.367020 val accuracy: 0.557000\n",
      "lr 5.000000e-07 reg 1.000000e+04 train accuracy: 0.370102 val accuracy: 0.482000\n",
      "lr 5.000000e-07 reg 5.000000e+04 train accuracy: 0.330612 val accuracy: 0.394000\n",
      "lr 5.000000e-07 reg 1.000000e+05 train accuracy: 0.317041 val accuracy: 0.355000\n",
      "lr 5.000000e-07 reg 5.000000e+05 train accuracy: 0.270286 val accuracy: 0.313000\n",
      "lr 1.000000e-06 reg 1.000000e+03 train accuracy: 0.359776 val accuracy: 0.678000\n",
      "lr 1.000000e-06 reg 5.000000e+03 train accuracy: 0.379469 val accuracy: 0.562000\n",
      "lr 1.000000e-06 reg 1.000000e+04 train accuracy: 0.361327 val accuracy: 0.496000\n",
      "lr 1.000000e-06 reg 5.000000e+04 train accuracy: 0.323061 val accuracy: 0.385000\n",
      "lr 1.000000e-06 reg 1.000000e+05 train accuracy: 0.308184 val accuracy: 0.333000\n",
      "lr 1.000000e-06 reg 5.000000e+05 train accuracy: 0.240245 val accuracy: 0.282000\n",
      "lr 5.000000e-06 reg 1.000000e+03 train accuracy: 0.351510 val accuracy: 0.709000\n",
      "lr 5.000000e-06 reg 5.000000e+03 train accuracy: 0.335918 val accuracy: 0.512000\n",
      "lr 5.000000e-06 reg 1.000000e+04 train accuracy: 0.331592 val accuracy: 0.413000\n",
      "lr 5.000000e-06 reg 5.000000e+04 train accuracy: 0.214469 val accuracy: 0.286000\n",
      "lr 5.000000e-06 reg 1.000000e+05 train accuracy: 0.135490 val accuracy: 0.142000\n",
      "lr 5.000000e-06 reg 5.000000e+05 train accuracy: 0.100265 val accuracy: 0.087000\n",
      "best validation accuracy achieved during cross-validation: 0.709000\n"
     ]
    }
   ],
   "source": [
    "# Use the validation set to tune hyperparameters (regularization strength and\n",
    "# learning rate). You should experiment with different ranges for the learning\n",
    "# rates and regularization strengths; if you are careful you should be able to\n",
    "# get a classification accuracy of over 0.35 on the validation set.\n",
    "\n",
    "from cs231n.classifiers import Softmax\n",
    "\n",
    "results = {}\n",
    "best_val = -1\n",
    "best_softmax = None\n",
    "learning_rates = [1e-8,5e-8,1e-7, 5e-7,1e-6,5e-6]\n",
    "regularization_strengths = [1e3,5e3,1e4,5e4, 1e5,5e5]\n",
    "\n",
    "################################################################################\n",
    "# TODO:                                                                        #\n",
    "# Use the validation set to set the learning rate and regularization strength. #\n",
    "# This should be identical to the validation that you did for the SVM; save    #\n",
    "# the best trained softmax classifer in best_softmax.                          #\n",
    "################################################################################\n",
    "for l in learning_rates:\n",
    "    for r in regularization_strengths:\n",
    "        print 'lr:',l,'rs:',r\n",
    "        sm = Softmax()\n",
    "        sm.train(X_train,y_train,learning_rate=l,reg=r,num_iters=700)\n",
    "        t_pred = sm.predict(X_train)\n",
    "        tr_acc = np.mean(t_pred == y_train)\n",
    "        sm.train(X_val,y_val, learning_rate=l, reg=r,num_iters=700)\n",
    "        v_pred = sm.predict(X_val)\n",
    "        v_acc  = np.mean(v_pred == y_val)\n",
    "        if v_acc > best_val : \n",
    "            best_val = v_acc\n",
    "            best_softmax = sm\n",
    "        results[(l,r)] = (tr_acc,v_acc)\n",
    "################################################################################\n",
    "#                              END OF YOUR CODE                                #\n",
    "################################################################################\n",
    "    \n",
    "# Print out results.\n",
    "for lr, reg in sorted(results):\n",
    "    train_accuracy, val_accuracy = results[(lr, reg)]\n",
    "    print 'lr %e reg %e train accuracy: %f val accuracy: %f' % (\n",
    "                lr, reg, train_accuracy, val_accuracy)\n",
    "    \n",
    "print 'best validation accuracy achieved during cross-validation: %f' % best_val"
   ]
  },
  {
   "cell_type": "code",
   "execution_count": 19,
   "metadata": {
    "collapsed": false
   },
   "outputs": [
    {
     "name": "stdout",
     "output_type": "stream",
     "text": [
      "softmax on raw pixels final test set accuracy: 0.312000\n"
     ]
    }
   ],
   "source": [
    "# evaluate on test set\n",
    "# Evaluate the best softmax on test set\n",
    "y_test_pred = best_softmax.predict(X_test)\n",
    "test_accuracy = np.mean(y_test == y_test_pred)\n",
    "print 'softmax on raw pixels final test set accuracy: %f' % (test_accuracy, )"
   ]
  },
  {
   "cell_type": "code",
   "execution_count": 22,
   "metadata": {
    "collapsed": false
   },
   "outputs": [
    {
     "name": "stdout",
     "output_type": "stream",
     "text": [
      "(10, 3072)\n"
     ]
    },
    {
     "data": {
      "image/png": "[encoded data removed]",
      "text/plain": [
       "<matplotlib.figure.Figure at 0x10f60bb90>"
      ]
     },
     "metadata": {},
     "output_type": "display_data"
    }
   ],
   "source": [
    "# Visualize the learned weights for each class\n",
    "w = best_softmax.W[:,:-1] # strip out the bias\n",
    "print w.shape\n",
    "w = w.reshape(32, 32, 3, 10)\n",
    "\n",
    "w_min, w_max = np.min(w), np.max(w)\n",
    "\n",
    "classes = ['plane', 'car', 'bird', 'cat', 'deer', 'dog', 'frog', 'horse', 'ship', 'truck']\n",
    "for i in xrange(10):\n",
    "  plt.subplot(2, 5, i + 1)\n",
    "  \n",
    "  # Rescale the weights to be between 0 and 255\n",
    "  wimg = 255.0 * (w[:, :, :, i].squeeze() - w_min) / (w_max - w_min)\n",
    "  plt.imshow(wimg.astype('uint8'))\n",
    "  plt.axis('off')\n",
    "  plt.title(classes[i])"
   ]
  },
  {
   "cell_type": "code",
   "execution_count": null,
   "metadata": {
    "collapsed": true
   },
   "outputs": [],
   "source": []
  }
 ],
 "metadata": {
  "anaconda-cloud": {},
  "kernelspec": {
   "display_name": "Python [default]",
   "language": "python",
   "name": "python2"
  },
  "language_info": {
   "codemirror_mode": {
    "name": "ipython",
    "version": 2
   },
   "file_extension": ".py",
   "mimetype": "text/x-python",
   "name": "python",
   "nbconvert_exporter": "python",
   "pygments_lexer": "ipython2",
   "version": "2.7.12"
  }
 },
 "nbformat": 4,
 "nbformat_minor": 0
}
